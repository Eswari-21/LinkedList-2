{
  "nbformat": 4,
  "nbformat_minor": 0,
  "metadata": {
    "colab": {
      "provenance": [],
      "gpuType": "T4",
      "authorship_tag": "ABX9TyMWQF9zRpSs+MxTYW56GXIB",
      "include_colab_link": true
    },
    "kernelspec": {
      "name": "python3",
      "display_name": "Python 3"
    },
    "language_info": {
      "name": "python"
    },
    "accelerator": "GPU"
  },
  "cells": [
    {
      "cell_type": "markdown",
      "metadata": {
        "id": "view-in-github",
        "colab_type": "text"
      },
      "source": [
        "<a href=\"https://colab.research.google.com/github/Eswari-21/LinkedList-2/blob/main/LinkedLists_2.ipynb\" target=\"_parent\"><img src=\"https://colab.research.google.com/assets/colab-badge.svg\" alt=\"Open In Colab\"/></a>"
      ]
    },
    {
      "cell_type": "markdown",
      "source": [
        "# Questions for ----\n",
        "### delete at begin / insert at begin\n",
        "### delete at begin / insert at end\n",
        "### delete at end / insert at end\n",
        "### delete at begin / insert  begin\n"
      ],
      "metadata": {
        "id": "hSh8udaNhMin"
      }
    },
    {
      "cell_type": "markdown",
      "source": [
        "## insert at begin / delete at begin"
      ],
      "metadata": {
        "id": "0RE85MEVjY03"
      }
    },
    {
      "cell_type": "code",
      "source": [
        "class Node:\n",
        "    def __init__(self,data):\n",
        "        self.data = data\n",
        "        self.next = None\n",
        "class DoublyLinkedList:\n",
        "    def __init__(self):\n",
        "        self.head = None\n",
        "    def iab(self,data):\n",
        "        newnode = Node(data)\n",
        "        newnode.next = self.head\n",
        "        self.head = newnode\n",
        "        print(f\" {data} inserted from begin.\")\n",
        "    def dab(self):\n",
        "      if not self.head:\n",
        "        print(\" can't perform delete in an empty list..\")\n",
        "      print(f\"Deleted node is {self.head.data}\")\n",
        "      self.head = self.head.next\n",
        "      if self.head:\n",
        "        self.head.prev = None\n",
        "    def display(self):\n",
        "        current = self.head\n",
        "        if not current:\n",
        "            print(\"LinkedList - empty\")\n",
        "            return\n",
        "        while current:\n",
        "            print(current.data, end=\"  \")\n",
        "            current = current.next\n",
        "        print(\"None\")\n",
        "\n",
        "dll= DoublyLinkedList()\n",
        "n = int(input(\"enter the number of elements to insert at begin : \"))\n",
        "for i in range(n):\n",
        "  val=int(input(f\"enter the element {i+1} : \"))\n",
        "  dll.iab(val)\n",
        "dll.display()\n",
        "d = int(input(\"\\n how many times you want perform delete operation :\"))\n",
        "dll.dab()\n",
        "dll.display()"
      ],
      "metadata": {
        "colab": {
          "base_uri": "https://localhost:8080/"
        },
        "id": "rkIcG0WLhwCv",
        "outputId": "d201c36f-f559-4e1b-9e05-39ab4b037b04"
      },
      "execution_count": 10,
      "outputs": [
        {
          "output_type": "stream",
          "name": "stdout",
          "text": [
            "enter the number of elements to insert at begin : 3\n",
            "enter the element 1 : 21\n",
            " 21 inserted from begin.\n",
            "enter the element 2 : 1\n",
            " 1 inserted from begin.\n",
            "enter the element 3 : 5\n",
            " 5 inserted from begin.\n",
            "5  1  21  None\n",
            "\n",
            " how many times you want perform delete operation :5\n",
            "Deleted node is 5\n",
            "1  21  None\n"
          ]
        }
      ]
    },
    {
      "cell_type": "markdown",
      "source": [
        "## Insert at begin / delete at end\n"
      ],
      "metadata": {
        "id": "DL5gpFCPj8Rg"
      }
    },
    {
      "cell_type": "code",
      "source": [
        "class Node:\n",
        "    def __init__(self, data):\n",
        "        self.data = data\n",
        "        self.prev = None\n",
        "        self.next = None\n",
        "\n",
        "class DoubleLinkedList:\n",
        "    def __init__(self):\n",
        "        self.head = None\n",
        "\n",
        "    def iab(self, data):  # Insert At Beginning\n",
        "        newnode = Node(data)\n",
        "        newnode.next = self.head\n",
        "        if self.head:\n",
        "            self.head.prev = newnode\n",
        "        self.head = newnode\n",
        "\n",
        "    def dae(self):  # Delete At End\n",
        "        if self.head is None:\n",
        "            print(\"Can't perform delete on an empty list...\")\n",
        "            return\n",
        "        temp = self.head\n",
        "        while temp.next:\n",
        "            temp = temp.next\n",
        "        print(f\"Deleted: {temp.data}\")\n",
        "        if temp.prev:\n",
        "            temp.prev.next = None\n",
        "        else:\n",
        "            self.head = None  # List becomes empty\n",
        "\n",
        "    def display(self):\n",
        "        temp = self.head\n",
        "        print(\"Doubly Linked List:\")\n",
        "        while temp:\n",
        "            print(temp.data, end=\" <-> \")\n",
        "            temp = temp.next\n",
        "        print(\"None\")\n",
        "\n",
        "# Main Code\n",
        "dll = DoubleLinkedList()\n",
        "\n",
        "n = int(input(\"Enter the number of elements to insert at beginning: \"))\n",
        "for i in range(n):\n",
        "    val = int(input(f\"Enter element {i+1}: \"))\n",
        "    dll.iab(val)\n",
        "\n",
        "dll.display()\n",
        "\n",
        "d = int(input(\"\\nHow many times you want to perform delete operation: \"))\n",
        "dll.dae()\n",
        "dll.display()\n"
      ],
      "metadata": {
        "colab": {
          "base_uri": "https://localhost:8080/"
        },
        "outputId": "7804eb54-405b-4bd5-fdca-68d6110b7aea",
        "id": "eTiS7t5Nj7NL"
      },
      "execution_count": 7,
      "outputs": [
        {
          "output_type": "stream",
          "name": "stdout",
          "text": [
            "Enter the number of elements to insert at beginning: 5\n",
            "Enter element 1: 12\n",
            "Enter element 2: 34\n",
            "Enter element 3: 45\n",
            "Enter element 4: 23\n",
            "Enter element 5: 4\n",
            "Doubly Linked List:\n",
            "4 <-> 23 <-> 45 <-> 34 <-> 12 <-> None\n",
            "\n",
            "How many times you want to perform delete operation: 12\n",
            "Deleted: 12\n",
            "Doubly Linked List:\n",
            "4 <-> 23 <-> 45 <-> 34 <-> None\n"
          ]
        }
      ]
    },
    {
      "cell_type": "markdown",
      "source": [
        "## Delete at end / insert at end\n",
        "\n"
      ],
      "metadata": {
        "id": "B5xcV-wYnglH"
      }
    },
    {
      "cell_type": "code",
      "source": [
        "class Node:\n",
        "  def __init__(self,data):\n",
        "    self.data=data\n",
        "    self.prev=None\n",
        "    self.next=None\n",
        "class DoubleLinkdList:\n",
        "  def __init__(self):\n",
        "    self.head=None\n",
        "  def iae(self,data):\n",
        "    newnode = Node(data)\n",
        "    if not self.head:\n",
        "      self.head = newnode\n",
        "      return\n",
        "    temp = self.head\n",
        "    while temp.next:\n",
        "      temp = temp.next\n",
        "    temp.next = newnode\n",
        "    newnode.prev = temp\n",
        "  def dae(self):\n",
        "    if self.head is None:\n",
        "      print(\"Cant perform delete in an empty list...\")\n",
        "      return\n",
        "    temp= self.head\n",
        "    while temp.next:\n",
        "      temp=temp.next\n",
        "    print(f\"deleted:{temp.data}\")\n",
        "    if temp.prev:\n",
        "      temp.prev.next = None\n",
        "    else:\n",
        "      self.head =None\n",
        "  def display(self):\n",
        "    temp = self.head\n",
        "    print(\"Double Linked List\")\n",
        "    while temp:\n",
        "       print(temp.data, end =\"<->\")\n",
        "       temp = temp.next\n",
        "    print(\"None\")\n",
        "dll = DoubleLinkdList()\n",
        "n = int(input(\"enter the no of elements to insert at end:\"))\n",
        "for i in range(n):\n",
        "    val = int(input(f\"enter element {i+1}:\"))\n",
        "    dll.iae(val)\n",
        "dll.display()\n",
        "d = int(input(\"\\n how many times you want to perform delete op:\"))\n",
        "\n",
        "dll.dae()\n",
        "dll.display()\n",
        "\n",
        "\n"
      ],
      "metadata": {
        "colab": {
          "base_uri": "https://localhost:8080/"
        },
        "outputId": "1e96174d-18fc-44f1-b0c9-d200e1e40ec1",
        "id": "m5_TG6-wp71M"
      },
      "execution_count": 8,
      "outputs": [
        {
          "output_type": "stream",
          "name": "stdout",
          "text": [
            "enter the no of elements to insert at end:5\n",
            "enter element 1:21\n",
            "enter element 2:31\n",
            "enter element 3:1\n",
            "enter element 4:11\n",
            "enter element 5:3\n",
            "Double Linked List\n",
            "21<->31<->1<->11<->3<->None\n",
            "\n",
            " how many times you want to perform delete op:3\n",
            "deleted:3\n",
            "Double Linked List\n",
            "21<->31<->1<->11<->None\n"
          ]
        }
      ]
    },
    {
      "cell_type": "markdown",
      "source": [
        "## delete at begin / insert at end"
      ],
      "metadata": {
        "id": "2RnF2eqyq4T_"
      }
    },
    {
      "cell_type": "code",
      "source": [],
      "metadata": {
        "id": "Z5cKeqP7q3uH"
      },
      "execution_count": null,
      "outputs": []
    },
    {
      "cell_type": "code",
      "source": [
        "class Node:\n",
        "    def __init__(self,data):\n",
        "        self.data = data\n",
        "        self.next = None\n",
        "        self.prev = None\n",
        "\n",
        "class DoublyLinkedList:\n",
        "    def __init__(self):\n",
        "        self.head = None\n",
        "\n",
        "    def iae(self,data):\n",
        "        newnode = Node(data)\n",
        "        if not self.head:\n",
        "          self.head = newnode\n",
        "          return\n",
        "        temp = self.head\n",
        "        while temp.next:\n",
        "          temp = temp.next\n",
        "        temp.next = newnode\n",
        "        newnode.prev = temp\n",
        "\n",
        "    def dab(self):\n",
        "      if not self.head:\n",
        "        print(\" can't perform delete in an empty list..\")\n",
        "      print(f\"Deleted node is {self.head.data}\")\n",
        "      self.head = self.head.next\n",
        "      if self.head:\n",
        "        self.head.prev = None\n",
        "\n",
        "    def display(self):\n",
        "        current = self.head\n",
        "        if not current:\n",
        "            print(\"LinkedList - empty\")\n",
        "            return\n",
        "        while current:\n",
        "            print(current.data, end=\"  \")\n",
        "            current = current.next\n",
        "        print(\"None\")\n",
        "\n",
        "dll= DoublyLinkedList()\n",
        "n = int(input(\"enter the number of elements to insert at begin : \"))\n",
        "for i in range(n):\n",
        "  val=int(input(f\"enter the element {i+1} : \"))\n",
        "  dll.iae(val)\n",
        "dll.display()\n",
        "d = int(input(\"\\n how many times you want perform delete operation :\"))\n",
        "dll.dab()\n",
        "dll.display()"
      ],
      "metadata": {
        "colab": {
          "base_uri": "https://localhost:8080/"
        },
        "outputId": "2627a93e-feb5-4992-a80b-661a5cd5b161",
        "id": "YLouJOCCrJpa"
      },
      "execution_count": 9,
      "outputs": [
        {
          "output_type": "stream",
          "name": "stdout",
          "text": [
            "enter the number of elements to insert at begin : 5\n",
            "enter the element 1 : 21\n",
            "enter the element 2 : 1\n",
            "enter the element 3 : 12\n",
            "enter the element 4 : 2\n",
            "enter the element 5 : 5\n",
            "21  1  12  2  5  None\n",
            "\n",
            " how many times you want perform delete operation :21\n",
            "Deleted node is 21\n",
            "1  12  2  5  None\n"
          ]
        }
      ]
    },
    {
      "cell_type": "markdown",
      "source": [
        "## delete at position   / insert at end\n"
      ],
      "metadata": {
        "id": "U4WCUXjjv2ro"
      }
    },
    {
      "cell_type": "code",
      "source": [
        "class Node:\n",
        "    def __init__(self, data):\n",
        "        self.data = data\n",
        "        self.prev = None\n",
        "        self.next = None\n",
        "\n",
        "class DoubleLinkedList:\n",
        "    def __init__(self):\n",
        "        self.head = None\n",
        "\n",
        "    def iab(self, data):  # Insert At Beginning\n",
        "        newnode = Node(data)\n",
        "        newnode.next = self.head\n",
        "        if self.head:\n",
        "            self.head.prev = newnode\n",
        "        self.head = newnode\n",
        "\n",
        "    def dae(self):  # Delete At End\n",
        "        if self.head is None:\n",
        "            print(\"Can't perform delete on an empty list...\")\n",
        "            return\n",
        "        temp = self.head\n",
        "        while temp.next:\n",
        "            temp = temp.next\n",
        "        print(f\"Deleted: {temp.data}\")\n",
        "        if temp.prev:\n",
        "            temp.prev.next = None\n",
        "        else:\n",
        "            self.head = None\n",
        "\n",
        "    def dap(self, pos):  # Delete At Position\n",
        "        if self.head is None:\n",
        "            print(\"List is empty.\")\n",
        "            return\n",
        "        if pos <= 0:\n",
        "            print(\"Position must be >= 1\")\n",
        "            return\n",
        "        temp = self.head\n",
        "        count = 1\n",
        "        while temp and count < pos:\n",
        "            temp = temp.next\n",
        "            count += 1\n",
        "        if temp is None:\n",
        "            print(f\"Position {pos} is out of range.\")\n",
        "            return\n",
        "        print(f\"Deleted at position {pos}: {temp.data}\")\n",
        "        if temp.prev:\n",
        "            temp.prev.next = temp.next\n",
        "        else:\n",
        "            self.head = temp.next  # Deleting head\n",
        "        if temp.next:\n",
        "            temp.next.prev = temp.prev\n",
        "\n",
        "    def display(self):\n",
        "        temp = self.head\n",
        "        print(\"Doubly Linked List:\")\n",
        "        while temp:\n",
        "            print(temp.data, end=\" <-> \")\n",
        "            temp = temp.next\n",
        "        print(\"None\")\n",
        "\n",
        "# Main Code\n",
        "dll = DoubleLinkedList()\n",
        "\n",
        "n = int(input(\"Enter the number of elements to insert at beginning: \"))\n",
        "for i in range(n):\n",
        "    val = int(input(f\"Enter element {i+1}: \"))\n",
        "    dll.iab(val)\n",
        "\n",
        "dll.display()\n",
        "\n",
        "d = int(input(\"\\nHow many times do you want to perform delete at position: \"))\n",
        "for _ in range(d):\n",
        "    pos = int(input(\"Enter position to delete (1-based index): \"))\n",
        "    dll.dap(pos)\n",
        "    dll.display()\n"
      ],
      "metadata": {
        "colab": {
          "base_uri": "https://localhost:8080/"
        },
        "id": "eleP5DsztIyn",
        "outputId": "7c124dc6-1412-4b98-ea5f-85cdff4a117d"
      },
      "execution_count": 31,
      "outputs": [
        {
          "output_type": "stream",
          "name": "stdout",
          "text": [
            "Enter the number of elements to insert at beginning: 5\n",
            "Enter element 1: 1\n",
            "Enter element 2: 3\n",
            "Enter element 3: 2\n",
            "Enter element 4: 7\n",
            "Enter element 5: 5\n",
            "Doubly Linked List:\n",
            "5 <-> 7 <-> 2 <-> 3 <-> 1 <-> None\n",
            "\n",
            "How many times do you want to perform delete at position: 2\n",
            "Enter position to delete (1-based index): 3\n",
            "Deleted at position 3: 2\n",
            "Doubly Linked List:\n",
            "5 <-> 7 <-> 3 <-> 1 <-> None\n",
            "Enter position to delete (1-based index): 3\n",
            "Deleted at position 3: 3\n",
            "Doubly Linked List:\n",
            "5 <-> 7 <-> 1 <-> None\n"
          ]
        }
      ]
    },
    {
      "cell_type": "markdown",
      "source": [
        "## another way for  delete at position   / insert at end\n"
      ],
      "metadata": {
        "id": "iwxtchL70DPA"
      }
    },
    {
      "cell_type": "code",
      "source": [
        "class Node:\n",
        "    def __init__(self,data):\n",
        "        self.data = data\n",
        "        self.next = None\n",
        "        self.prev = None\n",
        "\n",
        "class DoublyLinkedList:\n",
        "    def __init__(self):\n",
        "        self.head = None\n",
        "\n",
        "    def iae(self,data):\n",
        "        newnode = Node(data)\n",
        "        if not self.head:\n",
        "          self.head = newnode\n",
        "          return\n",
        "        temp = self.head\n",
        "        while temp.next:\n",
        "          temp = temp.next\n",
        "        temp.next = newnode\n",
        "        newnode.prev = temp\n",
        "\n",
        "    def dab(self):\n",
        "      if not self.head:\n",
        "        print(\" can't perform delete in an empty list..\")\n",
        "        return # Added return to exit if list is empty\n",
        "      print(f\"Deleted node is {self.head.data}\")\n",
        "      self.head = self.head.next\n",
        "      if self.head:\n",
        "        self.head.prev = None\n",
        "\n",
        "    def dbv(self,val):\n",
        "      temp = self.head\n",
        "      while temp:\n",
        "        if temp.data == val:\n",
        "          print(f\"Deleted:{temp.data}\") # Corrected to temp.data\n",
        "          if temp.prev:\n",
        "            temp.prev.next = temp.next\n",
        "          else:\n",
        "            self.head = temp.next\n",
        "          if temp.next:\n",
        "            temp.next.prev = temp.prev\n",
        "          return\n",
        "        temp = temp.next\n",
        "      print(f\"{val} not found in the list.\")\n",
        "\n",
        "    def display(self):\n",
        "        current = self.head\n",
        "        if not current:\n",
        "            print(\"LinkedList - empty\")\n",
        "            return\n",
        "        while current:\n",
        "            print(current.data, end=\"  \")\n",
        "            current = current.next\n",
        "        print(\"None\")\n",
        "\n",
        "dll= DoublyLinkedList()\n",
        "n = int(input(\"enter the number of elements to insert at end : \")) # Changed prompt to reflect iae method\n",
        "for i in range(n):\n",
        "  val=int(input(f\"enter the element {i+1} : \"))\n",
        "  dll.iae(val)\n",
        "dll.display()\n",
        "d = int(input(\"\\n enter the value you want to perform delete operation for :\")) # Changed prompt to reflect dbv method\n",
        "dll.dbv(d) # Corrected method call and argument\n",
        "dll.display()"
      ],
      "metadata": {
        "colab": {
          "base_uri": "https://localhost:8080/"
        },
        "outputId": "65bdf380-6d34-4a36-a14f-db3c1d48a0b2",
        "id": "Yfbnt7SpzinB"
      },
      "execution_count": 29,
      "outputs": [
        {
          "output_type": "stream",
          "name": "stdout",
          "text": [
            "enter the number of elements to insert at end : 5\n",
            "enter the element 1 : 21\n",
            "enter the element 2 : 1\n",
            "enter the element 3 : 3\n",
            "enter the element 4 : 32\n",
            "enter the element 5 : 4\n",
            "21  1  3  32  4  None\n",
            "\n",
            " enter the value you want to perform delete operation for :3\n",
            "Deleted:3\n",
            "21  1  32  4  None\n"
          ]
        }
      ]
    }
  ]
}